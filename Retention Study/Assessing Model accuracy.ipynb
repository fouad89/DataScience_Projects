{
 "cells": [
  {
   "cell_type": "markdown",
   "metadata": {},
   "source": [
    "$$ Accuracy = \\frac{Correct Classification}{Total Number of  Classifications}$$"
   ]
  },
  {
   "cell_type": "code",
   "execution_count": 4,
   "metadata": {},
   "outputs": [],
   "source": [
    "# to use accuracy import from sklearn.metrics\n",
    "from sklearn.metrics import accuracy_score\n",
    "\n"
   ]
  },
  {
   "cell_type": "markdown",
   "metadata": {},
   "source": [
    "**Arguments as Follows:**\n",
    "$$accuracy\\_score(predictions,y_{true})$$"
   ]
  },
  {
   "cell_type": "markdown",
   "metadata": {},
   "source": [
    "### Accuracy Metrics"
   ]
  },
  {
   "cell_type": "markdown",
   "metadata": {},
   "source": [
    "**Recall**: How much of the positive classes predicted correctly\n",
    "<br>\n",
    "<br>$$\\\\Recall = \\frac{True Positives}{actual positives}\\\\= \\frac{True Positives}{True Positives + False Negatives}$$\n",
    "\n",
    "<br><br>**Precision**: How many positive predictions were right<br>\n",
    "<br>$$Precision = \\frac{True Positives}{Positive Predictions}\\\\=\\frac{True Positives}{True Positives + False Positives}$$\n",
    "\n",
    "<br><br>**F-Score** A metric to measure both **Recall & Precision**\n",
    "<br><br>$$F-Score = \\frac{2*Recall*Precision}{Precision+Recall}$$"
   ]
  },
  {
   "cell_type": "code",
   "execution_count": null,
   "metadata": {},
   "outputs": [],
   "source": []
  }
 ],
 "metadata": {
  "kernelspec": {
   "display_name": "Python 3",
   "language": "python",
   "name": "python3"
  },
  "language_info": {
   "codemirror_mode": {
    "name": "ipython",
    "version": 3
   },
   "file_extension": ".py",
   "mimetype": "text/x-python",
   "name": "python",
   "nbconvert_exporter": "python",
   "pygments_lexer": "ipython3",
   "version": "3.7.6"
  }
 },
 "nbformat": 4,
 "nbformat_minor": 4
}
