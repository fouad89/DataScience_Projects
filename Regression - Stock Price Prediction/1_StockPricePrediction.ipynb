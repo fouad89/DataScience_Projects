{
 "cells": [
  {
   "cell_type": "markdown",
   "metadata": {},
   "source": [
    "\n",
    "<h2>Stock Price Prediction</h2>\n",
    "\n",
    "<p>Using Yahoo Finance API (yfinance) as well as Linear Regression to predict stock prices. \n",
    "Documentation for yfinance can be found <a href=\"https://pypi.org/project/yfinance/\">Here</a></p>\n",
    "\n",
    "<h2> Summary:</h2>\n",
    "<ol>\n",
    "    <li>Basic emplementation of Machine Learning in price prediction</li>\n",
    "    <li>SVR: Support Vector Regression gave a higher convidence in predictions</li>\n",
    "    <li>SVR model always under priced the predictions while linear regression always overpriced</li>\n",
    "    \n",
    "\n",
    "</ol>"
   ]
  },
  {
   "cell_type": "code",
   "execution_count": 1,
   "metadata": {},
   "outputs": [],
   "source": [
    "## Library Imports\n",
    "import numpy as np\n",
    "import pandas as pd\n",
    "import matplotlib.pyplot as plt\n",
    "import seaborn as sns\n",
    "\n",
    "import yfinance as yf"
   ]
  },
  {
   "cell_type": "code",
   "execution_count": 2,
   "metadata": {},
   "outputs": [
    {
     "name": "stdout",
     "output_type": "stream",
     "text": [
      "[*********************100%***********************]  3 of 3 completed\n"
     ]
    }
   ],
   "source": [
    "# retrieving multiple stocks with tickers: AAPL, MSFT, GOOG\n",
    "\n",
    "data = yf.download(tickers='AAPL MSFT GOOG',\n",
    "                  period='1y', #for 1 year\n",
    "                  #interval='5m', # five minute intervals\n",
    "                  group_by = 'ticker',\n",
    "                  )"
   ]
  },
  {
   "cell_type": "code",
   "execution_count": 3,
   "metadata": {},
   "outputs": [
    {
     "data": {
      "text/html": [
       "<div>\n",
       "<style scoped>\n",
       "    .dataframe tbody tr th:only-of-type {\n",
       "        vertical-align: middle;\n",
       "    }\n",
       "\n",
       "    .dataframe tbody tr th {\n",
       "        vertical-align: top;\n",
       "    }\n",
       "\n",
       "    .dataframe thead th {\n",
       "        text-align: right;\n",
       "    }\n",
       "</style>\n",
       "<table border=\"1\" class=\"dataframe\">\n",
       "  <thead>\n",
       "    <tr style=\"text-align: right;\">\n",
       "      <th></th>\n",
       "      <th>Open</th>\n",
       "      <th>High</th>\n",
       "      <th>Low</th>\n",
       "      <th>Close</th>\n",
       "      <th>Adj Close</th>\n",
       "      <th>Volume</th>\n",
       "    </tr>\n",
       "    <tr>\n",
       "      <th>Date</th>\n",
       "      <th></th>\n",
       "      <th></th>\n",
       "      <th></th>\n",
       "      <th></th>\n",
       "      <th></th>\n",
       "      <th></th>\n",
       "    </tr>\n",
       "  </thead>\n",
       "  <tbody>\n",
       "    <tr>\n",
       "      <th>2020-01-30</th>\n",
       "      <td>80.135002</td>\n",
       "      <td>81.022499</td>\n",
       "      <td>79.687500</td>\n",
       "      <td>80.967499</td>\n",
       "      <td>80.274246</td>\n",
       "      <td>126743200</td>\n",
       "    </tr>\n",
       "    <tr>\n",
       "      <th>2020-01-31</th>\n",
       "      <td>80.232498</td>\n",
       "      <td>80.669998</td>\n",
       "      <td>77.072502</td>\n",
       "      <td>77.377502</td>\n",
       "      <td>76.714989</td>\n",
       "      <td>199588400</td>\n",
       "    </tr>\n",
       "    <tr>\n",
       "      <th>2020-02-03</th>\n",
       "      <td>76.074997</td>\n",
       "      <td>78.372498</td>\n",
       "      <td>75.555000</td>\n",
       "      <td>77.165001</td>\n",
       "      <td>76.504311</td>\n",
       "      <td>173985600</td>\n",
       "    </tr>\n",
       "    <tr>\n",
       "      <th>2020-02-04</th>\n",
       "      <td>78.827499</td>\n",
       "      <td>79.910004</td>\n",
       "      <td>78.407501</td>\n",
       "      <td>79.712502</td>\n",
       "      <td>79.029999</td>\n",
       "      <td>136616400</td>\n",
       "    </tr>\n",
       "    <tr>\n",
       "      <th>2020-02-05</th>\n",
       "      <td>80.879997</td>\n",
       "      <td>81.190002</td>\n",
       "      <td>79.737503</td>\n",
       "      <td>80.362503</td>\n",
       "      <td>79.674438</td>\n",
       "      <td>118826800</td>\n",
       "    </tr>\n",
       "    <tr>\n",
       "      <th>...</th>\n",
       "      <td>...</td>\n",
       "      <td>...</td>\n",
       "      <td>...</td>\n",
       "      <td>...</td>\n",
       "      <td>...</td>\n",
       "      <td>...</td>\n",
       "    </tr>\n",
       "    <tr>\n",
       "      <th>2021-01-25</th>\n",
       "      <td>143.070007</td>\n",
       "      <td>145.089996</td>\n",
       "      <td>136.539993</td>\n",
       "      <td>142.919998</td>\n",
       "      <td>142.919998</td>\n",
       "      <td>157611700</td>\n",
       "    </tr>\n",
       "    <tr>\n",
       "      <th>2021-01-26</th>\n",
       "      <td>143.600006</td>\n",
       "      <td>144.300003</td>\n",
       "      <td>141.369995</td>\n",
       "      <td>143.160004</td>\n",
       "      <td>143.160004</td>\n",
       "      <td>98390600</td>\n",
       "    </tr>\n",
       "    <tr>\n",
       "      <th>2021-01-27</th>\n",
       "      <td>143.429993</td>\n",
       "      <td>144.300003</td>\n",
       "      <td>140.410004</td>\n",
       "      <td>142.059998</td>\n",
       "      <td>142.059998</td>\n",
       "      <td>140843800</td>\n",
       "    </tr>\n",
       "    <tr>\n",
       "      <th>2021-01-28</th>\n",
       "      <td>139.520004</td>\n",
       "      <td>141.990005</td>\n",
       "      <td>136.699997</td>\n",
       "      <td>137.089996</td>\n",
       "      <td>137.089996</td>\n",
       "      <td>142621100</td>\n",
       "    </tr>\n",
       "    <tr>\n",
       "      <th>2021-01-29</th>\n",
       "      <td>135.830002</td>\n",
       "      <td>136.740005</td>\n",
       "      <td>130.210007</td>\n",
       "      <td>131.960007</td>\n",
       "      <td>131.960007</td>\n",
       "      <td>177180600</td>\n",
       "    </tr>\n",
       "  </tbody>\n",
       "</table>\n",
       "<p>253 rows × 6 columns</p>\n",
       "</div>"
      ],
      "text/plain": [
       "                  Open        High         Low       Close   Adj Close  \\\n",
       "Date                                                                     \n",
       "2020-01-30   80.135002   81.022499   79.687500   80.967499   80.274246   \n",
       "2020-01-31   80.232498   80.669998   77.072502   77.377502   76.714989   \n",
       "2020-02-03   76.074997   78.372498   75.555000   77.165001   76.504311   \n",
       "2020-02-04   78.827499   79.910004   78.407501   79.712502   79.029999   \n",
       "2020-02-05   80.879997   81.190002   79.737503   80.362503   79.674438   \n",
       "...                ...         ...         ...         ...         ...   \n",
       "2021-01-25  143.070007  145.089996  136.539993  142.919998  142.919998   \n",
       "2021-01-26  143.600006  144.300003  141.369995  143.160004  143.160004   \n",
       "2021-01-27  143.429993  144.300003  140.410004  142.059998  142.059998   \n",
       "2021-01-28  139.520004  141.990005  136.699997  137.089996  137.089996   \n",
       "2021-01-29  135.830002  136.740005  130.210007  131.960007  131.960007   \n",
       "\n",
       "               Volume  \n",
       "Date                   \n",
       "2020-01-30  126743200  \n",
       "2020-01-31  199588400  \n",
       "2020-02-03  173985600  \n",
       "2020-02-04  136616400  \n",
       "2020-02-05  118826800  \n",
       "...               ...  \n",
       "2021-01-25  157611700  \n",
       "2021-01-26   98390600  \n",
       "2021-01-27  140843800  \n",
       "2021-01-28  142621100  \n",
       "2021-01-29  177180600  \n",
       "\n",
       "[253 rows x 6 columns]"
      ]
     },
     "execution_count": 3,
     "metadata": {},
     "output_type": "execute_result"
    }
   ],
   "source": [
    "# seperating each ticker to it's own df.\n",
    "# data variable has multiindex on columns. and we can retrieve the first level as follows:\n",
    "tickers = {ticker:data[ticker] for ticker in data.columns.levels [0]}\n",
    "# so now data can be retrieved for each stock by using tickers.ticker as below\n",
    "tickers['AAPL']\n",
    "\n",
    "\n",
    "\n"
   ]
  },
  {
   "cell_type": "code",
   "execution_count": 4,
   "metadata": {},
   "outputs": [
    {
     "data": {
      "text/plain": [
       "Index(['AAPL', 'GOOG', 'MSFT'], dtype='object')"
      ]
     },
     "execution_count": 4,
     "metadata": {},
     "output_type": "execute_result"
    }
   ],
   "source": [
    "data.columns.levels[0]"
   ]
  },
  {
   "cell_type": "code",
   "execution_count": 5,
   "metadata": {},
   "outputs": [],
   "source": [
    "## Another method to retrieve stock information\n",
    "apple = yf.Ticker(\"AAPL\")\n"
   ]
  },
  {
   "cell_type": "code",
   "execution_count": 6,
   "metadata": {},
   "outputs": [
    {
     "data": {
      "text/html": [
       "<div>\n",
       "<style scoped>\n",
       "    .dataframe tbody tr th:only-of-type {\n",
       "        vertical-align: middle;\n",
       "    }\n",
       "\n",
       "    .dataframe tbody tr th {\n",
       "        vertical-align: top;\n",
       "    }\n",
       "\n",
       "    .dataframe thead th {\n",
       "        text-align: right;\n",
       "    }\n",
       "</style>\n",
       "<table border=\"1\" class=\"dataframe\">\n",
       "  <thead>\n",
       "    <tr style=\"text-align: right;\">\n",
       "      <th></th>\n",
       "      <th>Dividends</th>\n",
       "      <th>Stock Splits</th>\n",
       "    </tr>\n",
       "    <tr>\n",
       "      <th>Date</th>\n",
       "      <th></th>\n",
       "      <th></th>\n",
       "    </tr>\n",
       "  </thead>\n",
       "  <tbody>\n",
       "    <tr>\n",
       "      <th>1987-05-11</th>\n",
       "      <td>0.000536</td>\n",
       "      <td>0.0</td>\n",
       "    </tr>\n",
       "    <tr>\n",
       "      <th>1987-06-16</th>\n",
       "      <td>0.000000</td>\n",
       "      <td>2.0</td>\n",
       "    </tr>\n",
       "    <tr>\n",
       "      <th>1987-08-10</th>\n",
       "      <td>0.000536</td>\n",
       "      <td>0.0</td>\n",
       "    </tr>\n",
       "    <tr>\n",
       "      <th>1987-11-17</th>\n",
       "      <td>0.000714</td>\n",
       "      <td>0.0</td>\n",
       "    </tr>\n",
       "    <tr>\n",
       "      <th>1988-02-12</th>\n",
       "      <td>0.000714</td>\n",
       "      <td>0.0</td>\n",
       "    </tr>\n",
       "    <tr>\n",
       "      <th>...</th>\n",
       "      <td>...</td>\n",
       "      <td>...</td>\n",
       "    </tr>\n",
       "    <tr>\n",
       "      <th>2020-02-07</th>\n",
       "      <td>0.192500</td>\n",
       "      <td>0.0</td>\n",
       "    </tr>\n",
       "    <tr>\n",
       "      <th>2020-05-08</th>\n",
       "      <td>0.205000</td>\n",
       "      <td>0.0</td>\n",
       "    </tr>\n",
       "    <tr>\n",
       "      <th>2020-08-07</th>\n",
       "      <td>0.205000</td>\n",
       "      <td>0.0</td>\n",
       "    </tr>\n",
       "    <tr>\n",
       "      <th>2020-08-31</th>\n",
       "      <td>0.000000</td>\n",
       "      <td>4.0</td>\n",
       "    </tr>\n",
       "    <tr>\n",
       "      <th>2020-11-06</th>\n",
       "      <td>0.205000</td>\n",
       "      <td>0.0</td>\n",
       "    </tr>\n",
       "  </tbody>\n",
       "</table>\n",
       "<p>74 rows × 2 columns</p>\n",
       "</div>"
      ],
      "text/plain": [
       "            Dividends  Stock Splits\n",
       "Date                               \n",
       "1987-05-11   0.000536           0.0\n",
       "1987-06-16   0.000000           2.0\n",
       "1987-08-10   0.000536           0.0\n",
       "1987-11-17   0.000714           0.0\n",
       "1988-02-12   0.000714           0.0\n",
       "...               ...           ...\n",
       "2020-02-07   0.192500           0.0\n",
       "2020-05-08   0.205000           0.0\n",
       "2020-08-07   0.205000           0.0\n",
       "2020-08-31   0.000000           4.0\n",
       "2020-11-06   0.205000           0.0\n",
       "\n",
       "[74 rows x 2 columns]"
      ]
     },
     "execution_count": 6,
     "metadata": {},
     "output_type": "execute_result"
    }
   ],
   "source": [
    "apple.actions # to show dividends and splits"
   ]
  },
  {
   "cell_type": "code",
   "execution_count": 7,
   "metadata": {},
   "outputs": [
    {
     "data": {
      "text/plain": [
       "Date\n",
       "1987-06-16    2.0\n",
       "2000-06-21    2.0\n",
       "2005-02-28    2.0\n",
       "2014-06-09    7.0\n",
       "2020-08-31    4.0\n",
       "Name: Stock Splits, dtype: float64"
      ]
     },
     "execution_count": 7,
     "metadata": {},
     "output_type": "execute_result"
    }
   ],
   "source": [
    "apple.splits # show splits"
   ]
  },
  {
   "cell_type": "code",
   "execution_count": 8,
   "metadata": {},
   "outputs": [
    {
     "data": {
      "text/plain": [
       "Date\n",
       "2018-08-10    0.1825\n",
       "2018-11-08    0.1825\n",
       "2019-02-08    0.1825\n",
       "2019-05-10    0.1925\n",
       "2019-08-09    0.1925\n",
       "2019-11-07    0.1925\n",
       "2020-02-07    0.1925\n",
       "2020-05-08    0.2050\n",
       "2020-08-07    0.2050\n",
       "2020-11-06    0.2050\n",
       "Name: Dividends, dtype: float64"
      ]
     },
     "execution_count": 8,
     "metadata": {},
     "output_type": "execute_result"
    }
   ],
   "source": [
    "apple.dividends[-10:] # showing last 1o dividends"
   ]
  },
  {
   "cell_type": "code",
   "execution_count": 9,
   "metadata": {},
   "outputs": [
    {
     "data": {
      "text/html": [
       "<div>\n",
       "<style scoped>\n",
       "    .dataframe tbody tr th:only-of-type {\n",
       "        vertical-align: middle;\n",
       "    }\n",
       "\n",
       "    .dataframe tbody tr th {\n",
       "        vertical-align: top;\n",
       "    }\n",
       "\n",
       "    .dataframe thead th {\n",
       "        text-align: right;\n",
       "    }\n",
       "</style>\n",
       "<table border=\"1\" class=\"dataframe\">\n",
       "  <thead>\n",
       "    <tr style=\"text-align: right;\">\n",
       "      <th></th>\n",
       "      <th>Open</th>\n",
       "      <th>High</th>\n",
       "      <th>Low</th>\n",
       "      <th>Close</th>\n",
       "      <th>Adj Close</th>\n",
       "      <th>Volume</th>\n",
       "    </tr>\n",
       "    <tr>\n",
       "      <th>Date</th>\n",
       "      <th></th>\n",
       "      <th></th>\n",
       "      <th></th>\n",
       "      <th></th>\n",
       "      <th></th>\n",
       "      <th></th>\n",
       "    </tr>\n",
       "  </thead>\n",
       "  <tbody>\n",
       "    <tr>\n",
       "      <th>2020-01-30</th>\n",
       "      <td>80.135002</td>\n",
       "      <td>81.022499</td>\n",
       "      <td>79.687500</td>\n",
       "      <td>80.967499</td>\n",
       "      <td>80.274246</td>\n",
       "      <td>126743200</td>\n",
       "    </tr>\n",
       "    <tr>\n",
       "      <th>2020-01-31</th>\n",
       "      <td>80.232498</td>\n",
       "      <td>80.669998</td>\n",
       "      <td>77.072502</td>\n",
       "      <td>77.377502</td>\n",
       "      <td>76.714989</td>\n",
       "      <td>199588400</td>\n",
       "    </tr>\n",
       "    <tr>\n",
       "      <th>2020-02-03</th>\n",
       "      <td>76.074997</td>\n",
       "      <td>78.372498</td>\n",
       "      <td>75.555000</td>\n",
       "      <td>77.165001</td>\n",
       "      <td>76.504311</td>\n",
       "      <td>173985600</td>\n",
       "    </tr>\n",
       "    <tr>\n",
       "      <th>2020-02-04</th>\n",
       "      <td>78.827499</td>\n",
       "      <td>79.910004</td>\n",
       "      <td>78.407501</td>\n",
       "      <td>79.712502</td>\n",
       "      <td>79.029999</td>\n",
       "      <td>136616400</td>\n",
       "    </tr>\n",
       "    <tr>\n",
       "      <th>2020-02-05</th>\n",
       "      <td>80.879997</td>\n",
       "      <td>81.190002</td>\n",
       "      <td>79.737503</td>\n",
       "      <td>80.362503</td>\n",
       "      <td>79.674438</td>\n",
       "      <td>118826800</td>\n",
       "    </tr>\n",
       "    <tr>\n",
       "      <th>...</th>\n",
       "      <td>...</td>\n",
       "      <td>...</td>\n",
       "      <td>...</td>\n",
       "      <td>...</td>\n",
       "      <td>...</td>\n",
       "      <td>...</td>\n",
       "    </tr>\n",
       "    <tr>\n",
       "      <th>2021-01-25</th>\n",
       "      <td>143.070007</td>\n",
       "      <td>145.089996</td>\n",
       "      <td>136.539993</td>\n",
       "      <td>142.919998</td>\n",
       "      <td>142.919998</td>\n",
       "      <td>157611700</td>\n",
       "    </tr>\n",
       "    <tr>\n",
       "      <th>2021-01-26</th>\n",
       "      <td>143.600006</td>\n",
       "      <td>144.300003</td>\n",
       "      <td>141.369995</td>\n",
       "      <td>143.160004</td>\n",
       "      <td>143.160004</td>\n",
       "      <td>98390600</td>\n",
       "    </tr>\n",
       "    <tr>\n",
       "      <th>2021-01-27</th>\n",
       "      <td>143.429993</td>\n",
       "      <td>144.300003</td>\n",
       "      <td>140.410004</td>\n",
       "      <td>142.059998</td>\n",
       "      <td>142.059998</td>\n",
       "      <td>140843800</td>\n",
       "    </tr>\n",
       "    <tr>\n",
       "      <th>2021-01-28</th>\n",
       "      <td>139.520004</td>\n",
       "      <td>141.990005</td>\n",
       "      <td>136.699997</td>\n",
       "      <td>137.089996</td>\n",
       "      <td>137.089996</td>\n",
       "      <td>142621100</td>\n",
       "    </tr>\n",
       "    <tr>\n",
       "      <th>2021-01-29</th>\n",
       "      <td>135.830002</td>\n",
       "      <td>136.740005</td>\n",
       "      <td>130.210007</td>\n",
       "      <td>131.960007</td>\n",
       "      <td>131.960007</td>\n",
       "      <td>177180600</td>\n",
       "    </tr>\n",
       "  </tbody>\n",
       "</table>\n",
       "<p>253 rows × 6 columns</p>\n",
       "</div>"
      ],
      "text/plain": [
       "                  Open        High         Low       Close   Adj Close  \\\n",
       "Date                                                                     \n",
       "2020-01-30   80.135002   81.022499   79.687500   80.967499   80.274246   \n",
       "2020-01-31   80.232498   80.669998   77.072502   77.377502   76.714989   \n",
       "2020-02-03   76.074997   78.372498   75.555000   77.165001   76.504311   \n",
       "2020-02-04   78.827499   79.910004   78.407501   79.712502   79.029999   \n",
       "2020-02-05   80.879997   81.190002   79.737503   80.362503   79.674438   \n",
       "...                ...         ...         ...         ...         ...   \n",
       "2021-01-25  143.070007  145.089996  136.539993  142.919998  142.919998   \n",
       "2021-01-26  143.600006  144.300003  141.369995  143.160004  143.160004   \n",
       "2021-01-27  143.429993  144.300003  140.410004  142.059998  142.059998   \n",
       "2021-01-28  139.520004  141.990005  136.699997  137.089996  137.089996   \n",
       "2021-01-29  135.830002  136.740005  130.210007  131.960007  131.960007   \n",
       "\n",
       "               Volume  \n",
       "Date                   \n",
       "2020-01-30  126743200  \n",
       "2020-01-31  199588400  \n",
       "2020-02-03  173985600  \n",
       "2020-02-04  136616400  \n",
       "2020-02-05  118826800  \n",
       "...               ...  \n",
       "2021-01-25  157611700  \n",
       "2021-01-26   98390600  \n",
       "2021-01-27  140843800  \n",
       "2021-01-28  142621100  \n",
       "2021-01-29  177180600  \n",
       "\n",
       "[253 rows x 6 columns]"
      ]
     },
     "execution_count": 9,
     "metadata": {},
     "output_type": "execute_result"
    }
   ],
   "source": [
    "apple = tickers['AAPL']\n",
    "apple\n"
   ]
  },
  {
   "cell_type": "code",
   "execution_count": 10,
   "metadata": {},
   "outputs": [
    {
     "data": {
      "text/html": [
       "<div>\n",
       "<style scoped>\n",
       "    .dataframe tbody tr th:only-of-type {\n",
       "        vertical-align: middle;\n",
       "    }\n",
       "\n",
       "    .dataframe tbody tr th {\n",
       "        vertical-align: top;\n",
       "    }\n",
       "\n",
       "    .dataframe thead th {\n",
       "        text-align: right;\n",
       "    }\n",
       "</style>\n",
       "<table border=\"1\" class=\"dataframe\">\n",
       "  <thead>\n",
       "    <tr style=\"text-align: right;\">\n",
       "      <th></th>\n",
       "      <th>Adj Close</th>\n",
       "    </tr>\n",
       "    <tr>\n",
       "      <th>Date</th>\n",
       "      <th></th>\n",
       "    </tr>\n",
       "  </thead>\n",
       "  <tbody>\n",
       "    <tr>\n",
       "      <th>2020-01-30</th>\n",
       "      <td>80.274246</td>\n",
       "    </tr>\n",
       "    <tr>\n",
       "      <th>2020-01-31</th>\n",
       "      <td>76.714989</td>\n",
       "    </tr>\n",
       "    <tr>\n",
       "      <th>2020-02-03</th>\n",
       "      <td>76.504311</td>\n",
       "    </tr>\n",
       "    <tr>\n",
       "      <th>2020-02-04</th>\n",
       "      <td>79.029999</td>\n",
       "    </tr>\n",
       "    <tr>\n",
       "      <th>2020-02-05</th>\n",
       "      <td>79.674438</td>\n",
       "    </tr>\n",
       "  </tbody>\n",
       "</table>\n",
       "</div>"
      ],
      "text/plain": [
       "            Adj Close\n",
       "Date                 \n",
       "2020-01-30  80.274246\n",
       "2020-01-31  76.714989\n",
       "2020-02-03  76.504311\n",
       "2020-02-04  79.029999\n",
       "2020-02-05  79.674438"
      ]
     },
     "execution_count": 10,
     "metadata": {},
     "output_type": "execute_result"
    }
   ],
   "source": [
    "# Lokking only at the Adj Close column\n",
    "apple = apple[['Adj Close']]\n",
    "apple.head()"
   ]
  },
  {
   "cell_type": "code",
   "execution_count": 11,
   "metadata": {},
   "outputs": [
    {
     "name": "stderr",
     "output_type": "stream",
     "text": [
      "/Users/spydermachome/opt/anaconda3/lib/python3.7/site-packages/ipykernel_launcher.py:4: SettingWithCopyWarning: \n",
      "A value is trying to be set on a copy of a slice from a DataFrame.\n",
      "Try using .loc[row_indexer,col_indexer] = value instead\n",
      "\n",
      "See the caveats in the documentation: https://pandas.pydata.org/pandas-docs/stable/user_guide/indexing.html#returning-a-view-versus-a-copy\n",
      "  after removing the cwd from sys.path.\n"
     ]
    }
   ],
   "source": [
    "# create a prediction for 30 days in the future. shifting the data up by 30 days and adding it to the df\n",
    "\n",
    "forecast_days = 30\n",
    "apple['prediction'] = apple['Adj Close'].shift(-forecast_days)"
   ]
  },
  {
   "cell_type": "code",
   "execution_count": 12,
   "metadata": {},
   "outputs": [
    {
     "name": "stdout",
     "output_type": "stream",
     "text": [
      "            Adj Close  prediction\n",
      "Date                             \n",
      "2020-01-30  80.274246   69.061012\n",
      "2020-01-31  76.714989   60.176525\n",
      "2020-02-03  76.504311   62.822491\n",
      "2020-02-04  79.029999   61.284599\n",
      "2020-02-05  79.674438   60.815033\n",
      "             Adj Close  prediction\n",
      "Date                              \n",
      "2021-01-25  142.919998         NaN\n",
      "2021-01-26  143.160004         NaN\n",
      "2021-01-27  142.059998         NaN\n",
      "2021-01-28  137.089996         NaN\n",
      "2021-01-29  131.960007         NaN\n"
     ]
    }
   ],
   "source": [
    "print(apple.head())\n",
    "print(apple.tail())"
   ]
  },
  {
   "cell_type": "code",
   "execution_count": 13,
   "metadata": {},
   "outputs": [],
   "source": [
    "# the data upto to the last thirty days will be used to train and test the model. The last thirty rows(days) will be predicted\n",
    "\n",
    "X = np.array(apple.drop(['prediction'], 1))\n",
    "X = X[:-forecast_days] # removing the last 30 days\n",
    "\n",
    "#print(X)\n"
   ]
  },
  {
   "cell_type": "code",
   "execution_count": 14,
   "metadata": {},
   "outputs": [
    {
     "name": "stdout",
     "output_type": "stream",
     "text": [
      "X has length 223\n",
      "y has length of 223\n"
     ]
    }
   ],
   "source": [
    "y = np.array(apple.drop(['Adj Close'],1))\n",
    "y = y[:-forecast_days]\n",
    "#print(y)\n",
    "print(f'X has length {len(X)}')\n",
    "print(f'y has length of {len(y)}')"
   ]
  },
  {
   "cell_type": "code",
   "execution_count": 15,
   "metadata": {},
   "outputs": [
    {
     "data": {
      "text/plain": [
       "(223, 1)"
      ]
     },
     "execution_count": 15,
     "metadata": {},
     "output_type": "execute_result"
    }
   ],
   "source": [
    "X.shape"
   ]
  },
  {
   "cell_type": "markdown",
   "metadata": {},
   "source": [
    "## Modelling"
   ]
  },
  {
   "cell_type": "code",
   "execution_count": 16,
   "metadata": {},
   "outputs": [],
   "source": [
    "# library imports for preprocessing and modelling\n",
    "from sklearn.model_selection import train_test_split\n",
    "from sklearn.linear_model import LinearRegression\n",
    "from sklearn.svm import SVR\n"
   ]
  },
  {
   "cell_type": "code",
   "execution_count": 17,
   "metadata": {},
   "outputs": [],
   "source": [
    "# train test split\n",
    "\n",
    "X_train, X_test, y_train, y_test = train_test_split(X,y) "
   ]
  },
  {
   "cell_type": "code",
   "execution_count": 18,
   "metadata": {},
   "outputs": [],
   "source": [
    "lreg = LinearRegression()\n",
    "svr = SVR(kernel='rbf', C=1e3, gamma=0.1)"
   ]
  },
  {
   "cell_type": "code",
   "execution_count": 19,
   "metadata": {},
   "outputs": [
    {
     "data": {
      "text/plain": [
       "LinearRegression(copy_X=True, fit_intercept=True, n_jobs=None, normalize=False)"
      ]
     },
     "execution_count": 19,
     "metadata": {},
     "output_type": "execute_result"
    }
   ],
   "source": [
    "lreg.fit(X_train, y_train)"
   ]
  },
  {
   "cell_type": "code",
   "execution_count": 20,
   "metadata": {},
   "outputs": [
    {
     "data": {
      "text/plain": [
       "0.7096239081565121"
      ]
     },
     "execution_count": 20,
     "metadata": {},
     "output_type": "execute_result"
    }
   ],
   "source": [
    "lreg.score(X_test, y_test)"
   ]
  },
  {
   "cell_type": "code",
   "execution_count": 21,
   "metadata": {},
   "outputs": [
    {
     "data": {
      "text/plain": [
       "SVR(C=1000.0, cache_size=200, coef0=0.0, degree=3, epsilon=0.1, gamma=0.1,\n",
       "    kernel='rbf', max_iter=-1, shrinking=True, tol=0.001, verbose=False)"
      ]
     },
     "execution_count": 21,
     "metadata": {},
     "output_type": "execute_result"
    }
   ],
   "source": [
    "svr.fit(X_train, y_train.ravel()) # using ravel to convert y from column vector to 1d array\n"
   ]
  },
  {
   "cell_type": "code",
   "execution_count": 22,
   "metadata": {},
   "outputs": [
    {
     "data": {
      "text/plain": [
       "0.7914416971358357"
      ]
     },
     "execution_count": 22,
     "metadata": {},
     "output_type": "execute_result"
    }
   ],
   "source": [
    "svr.score(X_test,y_test)"
   ]
  },
  {
   "cell_type": "code",
   "execution_count": 23,
   "metadata": {},
   "outputs": [],
   "source": [
    "# predicting the 30 days into the future\n",
    "forecast_x = np.array(apple['Adj Close'][-forecast_days:])\n",
    "lreg_prediction = lreg.predict(forecast_x.reshape(-1,1))\n",
    "svr_prediction = svr.predict(forecast_x.reshape(-1,1))"
   ]
  },
  {
   "cell_type": "code",
   "execution_count": 24,
   "metadata": {},
   "outputs": [
    {
     "data": {
      "text/plain": [
       "array([[132.55186404],\n",
       "       [133.38266914],\n",
       "       [131.4783568 ],\n",
       "       [132.94392793],\n",
       "       [136.3511732 ],\n",
       "       [135.49236456],\n",
       "       [136.43518384],\n",
       "       [140.84125548],\n",
       "       [139.14229773],\n",
       "       [138.06879049],\n",
       "       [137.10729743],\n",
       "       [134.04545296],\n",
       "       [135.53902764],\n",
       "       [131.42234258],\n",
       "       [135.455017  ],\n",
       "       [136.50986471],\n",
       "       [133.64404506],\n",
       "       [133.47602379],\n",
       "       [135.42701345],\n",
       "       [133.5787082 ],\n",
       "       [131.92642777],\n",
       "       [132.57053782],\n",
       "       [136.49119093],\n",
       "       [141.00927676],\n",
       "       [143.06296509],\n",
       "       [146.65689117],\n",
       "       [146.88093378],\n",
       "       [145.85408962],\n",
       "       [141.21464559],\n",
       "       [136.42585407]])"
      ]
     },
     "execution_count": 24,
     "metadata": {},
     "output_type": "execute_result"
    }
   ],
   "source": [
    "lreg_prediction"
   ]
  },
  {
   "cell_type": "code",
   "execution_count": 25,
   "metadata": {},
   "outputs": [
    {
     "data": {
      "text/plain": [
       "array([127.80999756, 128.69999695, 126.66000366, 128.22999573,\n",
       "       131.88000488, 130.96000671, 131.97000122, 136.69000244,\n",
       "       134.86999512, 133.72000122, 132.69000244, 129.41000366,\n",
       "       131.00999451, 126.59999847, 130.91999817, 132.05000305,\n",
       "       128.97999573, 128.80000305, 130.88999939, 128.91000366,\n",
       "       127.13999939, 127.83000183, 132.02999878, 136.86999512,\n",
       "       139.07000732, 142.91999817, 143.16000366, 142.05999756,\n",
       "       137.08999634, 131.96000671])"
      ]
     },
     "execution_count": 25,
     "metadata": {},
     "output_type": "execute_result"
    }
   ],
   "source": [
    "forecast_x"
   ]
  },
  {
   "cell_type": "code",
   "execution_count": 26,
   "metadata": {},
   "outputs": [
    {
     "data": {
      "text/plain": [
       "array([130.59365687, 122.69333654, 120.05858938, 128.389041  ,\n",
       "       130.36839248, 117.21695272, 131.3212494 ,  97.23742573,\n",
       "       107.2004643 , 124.60204467, 134.33942514, 113.01378119,\n",
       "       117.94176198, 119.14567728, 116.64932888, 132.07400701,\n",
       "       118.62003399, 121.25025615, 116.23196051, 119.64025885,\n",
       "       126.77532778, 130.56835452, 131.89449027,  97.43395705,\n",
       "       102.7070729 , 104.55317444, 104.55646375, 104.52236618,\n",
       "        97.82157891, 131.22081317])"
      ]
     },
     "execution_count": 26,
     "metadata": {},
     "output_type": "execute_result"
    }
   ],
   "source": [
    "svr_prediction"
   ]
  },
  {
   "cell_type": "code",
   "execution_count": 27,
   "metadata": {},
   "outputs": [],
   "source": [
    "future_prices = apple[-forecast_days:].copy(deep=True)"
   ]
  },
  {
   "cell_type": "code",
   "execution_count": 28,
   "metadata": {},
   "outputs": [],
   "source": [
    "future_prices[\"SVR_Prediction\"] = svr_prediction\n",
    "future_prices[\"Linear_regression\"] = lreg_prediction"
   ]
  },
  {
   "cell_type": "code",
   "execution_count": 29,
   "metadata": {},
   "outputs": [
    {
     "data": {
      "text/html": [
       "<div>\n",
       "<style scoped>\n",
       "    .dataframe tbody tr th:only-of-type {\n",
       "        vertical-align: middle;\n",
       "    }\n",
       "\n",
       "    .dataframe tbody tr th {\n",
       "        vertical-align: top;\n",
       "    }\n",
       "\n",
       "    .dataframe thead th {\n",
       "        text-align: right;\n",
       "    }\n",
       "</style>\n",
       "<table border=\"1\" class=\"dataframe\">\n",
       "  <thead>\n",
       "    <tr style=\"text-align: right;\">\n",
       "      <th></th>\n",
       "      <th>Adj Close</th>\n",
       "      <th>prediction</th>\n",
       "      <th>SVR_Prediction</th>\n",
       "      <th>Linear_regression</th>\n",
       "    </tr>\n",
       "    <tr>\n",
       "      <th>Date</th>\n",
       "      <th></th>\n",
       "      <th></th>\n",
       "      <th></th>\n",
       "      <th></th>\n",
       "    </tr>\n",
       "  </thead>\n",
       "  <tbody>\n",
       "    <tr>\n",
       "      <th>2020-12-16</th>\n",
       "      <td>127.809998</td>\n",
       "      <td>NaN</td>\n",
       "      <td>130.593657</td>\n",
       "      <td>132.551864</td>\n",
       "    </tr>\n",
       "    <tr>\n",
       "      <th>2020-12-17</th>\n",
       "      <td>128.699997</td>\n",
       "      <td>NaN</td>\n",
       "      <td>122.693337</td>\n",
       "      <td>133.382669</td>\n",
       "    </tr>\n",
       "    <tr>\n",
       "      <th>2020-12-18</th>\n",
       "      <td>126.660004</td>\n",
       "      <td>NaN</td>\n",
       "      <td>120.058589</td>\n",
       "      <td>131.478357</td>\n",
       "    </tr>\n",
       "    <tr>\n",
       "      <th>2020-12-21</th>\n",
       "      <td>128.229996</td>\n",
       "      <td>NaN</td>\n",
       "      <td>128.389041</td>\n",
       "      <td>132.943928</td>\n",
       "    </tr>\n",
       "    <tr>\n",
       "      <th>2020-12-22</th>\n",
       "      <td>131.880005</td>\n",
       "      <td>NaN</td>\n",
       "      <td>130.368392</td>\n",
       "      <td>136.351173</td>\n",
       "    </tr>\n",
       "    <tr>\n",
       "      <th>2020-12-23</th>\n",
       "      <td>130.960007</td>\n",
       "      <td>NaN</td>\n",
       "      <td>117.216953</td>\n",
       "      <td>135.492365</td>\n",
       "    </tr>\n",
       "    <tr>\n",
       "      <th>2020-12-24</th>\n",
       "      <td>131.970001</td>\n",
       "      <td>NaN</td>\n",
       "      <td>131.321249</td>\n",
       "      <td>136.435184</td>\n",
       "    </tr>\n",
       "    <tr>\n",
       "      <th>2020-12-28</th>\n",
       "      <td>136.690002</td>\n",
       "      <td>NaN</td>\n",
       "      <td>97.237426</td>\n",
       "      <td>140.841255</td>\n",
       "    </tr>\n",
       "    <tr>\n",
       "      <th>2020-12-29</th>\n",
       "      <td>134.869995</td>\n",
       "      <td>NaN</td>\n",
       "      <td>107.200464</td>\n",
       "      <td>139.142298</td>\n",
       "    </tr>\n",
       "    <tr>\n",
       "      <th>2020-12-30</th>\n",
       "      <td>133.720001</td>\n",
       "      <td>NaN</td>\n",
       "      <td>124.602045</td>\n",
       "      <td>138.068790</td>\n",
       "    </tr>\n",
       "    <tr>\n",
       "      <th>2020-12-31</th>\n",
       "      <td>132.690002</td>\n",
       "      <td>NaN</td>\n",
       "      <td>134.339425</td>\n",
       "      <td>137.107297</td>\n",
       "    </tr>\n",
       "    <tr>\n",
       "      <th>2021-01-04</th>\n",
       "      <td>129.410004</td>\n",
       "      <td>NaN</td>\n",
       "      <td>113.013781</td>\n",
       "      <td>134.045453</td>\n",
       "    </tr>\n",
       "    <tr>\n",
       "      <th>2021-01-05</th>\n",
       "      <td>131.009995</td>\n",
       "      <td>NaN</td>\n",
       "      <td>117.941762</td>\n",
       "      <td>135.539028</td>\n",
       "    </tr>\n",
       "    <tr>\n",
       "      <th>2021-01-06</th>\n",
       "      <td>126.599998</td>\n",
       "      <td>NaN</td>\n",
       "      <td>119.145677</td>\n",
       "      <td>131.422343</td>\n",
       "    </tr>\n",
       "    <tr>\n",
       "      <th>2021-01-07</th>\n",
       "      <td>130.919998</td>\n",
       "      <td>NaN</td>\n",
       "      <td>116.649329</td>\n",
       "      <td>135.455017</td>\n",
       "    </tr>\n",
       "    <tr>\n",
       "      <th>2021-01-08</th>\n",
       "      <td>132.050003</td>\n",
       "      <td>NaN</td>\n",
       "      <td>132.074007</td>\n",
       "      <td>136.509865</td>\n",
       "    </tr>\n",
       "    <tr>\n",
       "      <th>2021-01-11</th>\n",
       "      <td>128.979996</td>\n",
       "      <td>NaN</td>\n",
       "      <td>118.620034</td>\n",
       "      <td>133.644045</td>\n",
       "    </tr>\n",
       "    <tr>\n",
       "      <th>2021-01-12</th>\n",
       "      <td>128.800003</td>\n",
       "      <td>NaN</td>\n",
       "      <td>121.250256</td>\n",
       "      <td>133.476024</td>\n",
       "    </tr>\n",
       "    <tr>\n",
       "      <th>2021-01-13</th>\n",
       "      <td>130.889999</td>\n",
       "      <td>NaN</td>\n",
       "      <td>116.231961</td>\n",
       "      <td>135.427013</td>\n",
       "    </tr>\n",
       "    <tr>\n",
       "      <th>2021-01-14</th>\n",
       "      <td>128.910004</td>\n",
       "      <td>NaN</td>\n",
       "      <td>119.640259</td>\n",
       "      <td>133.578708</td>\n",
       "    </tr>\n",
       "    <tr>\n",
       "      <th>2021-01-15</th>\n",
       "      <td>127.139999</td>\n",
       "      <td>NaN</td>\n",
       "      <td>126.775328</td>\n",
       "      <td>131.926428</td>\n",
       "    </tr>\n",
       "    <tr>\n",
       "      <th>2021-01-19</th>\n",
       "      <td>127.830002</td>\n",
       "      <td>NaN</td>\n",
       "      <td>130.568355</td>\n",
       "      <td>132.570538</td>\n",
       "    </tr>\n",
       "    <tr>\n",
       "      <th>2021-01-20</th>\n",
       "      <td>132.029999</td>\n",
       "      <td>NaN</td>\n",
       "      <td>131.894490</td>\n",
       "      <td>136.491191</td>\n",
       "    </tr>\n",
       "    <tr>\n",
       "      <th>2021-01-21</th>\n",
       "      <td>136.869995</td>\n",
       "      <td>NaN</td>\n",
       "      <td>97.433957</td>\n",
       "      <td>141.009277</td>\n",
       "    </tr>\n",
       "    <tr>\n",
       "      <th>2021-01-22</th>\n",
       "      <td>139.070007</td>\n",
       "      <td>NaN</td>\n",
       "      <td>102.707073</td>\n",
       "      <td>143.062965</td>\n",
       "    </tr>\n",
       "    <tr>\n",
       "      <th>2021-01-25</th>\n",
       "      <td>142.919998</td>\n",
       "      <td>NaN</td>\n",
       "      <td>104.553174</td>\n",
       "      <td>146.656891</td>\n",
       "    </tr>\n",
       "    <tr>\n",
       "      <th>2021-01-26</th>\n",
       "      <td>143.160004</td>\n",
       "      <td>NaN</td>\n",
       "      <td>104.556464</td>\n",
       "      <td>146.880934</td>\n",
       "    </tr>\n",
       "    <tr>\n",
       "      <th>2021-01-27</th>\n",
       "      <td>142.059998</td>\n",
       "      <td>NaN</td>\n",
       "      <td>104.522366</td>\n",
       "      <td>145.854090</td>\n",
       "    </tr>\n",
       "    <tr>\n",
       "      <th>2021-01-28</th>\n",
       "      <td>137.089996</td>\n",
       "      <td>NaN</td>\n",
       "      <td>97.821579</td>\n",
       "      <td>141.214646</td>\n",
       "    </tr>\n",
       "    <tr>\n",
       "      <th>2021-01-29</th>\n",
       "      <td>131.960007</td>\n",
       "      <td>NaN</td>\n",
       "      <td>131.220813</td>\n",
       "      <td>136.425854</td>\n",
       "    </tr>\n",
       "  </tbody>\n",
       "</table>\n",
       "</div>"
      ],
      "text/plain": [
       "             Adj Close  prediction  SVR_Prediction  Linear_regression\n",
       "Date                                                                 \n",
       "2020-12-16  127.809998         NaN      130.593657         132.551864\n",
       "2020-12-17  128.699997         NaN      122.693337         133.382669\n",
       "2020-12-18  126.660004         NaN      120.058589         131.478357\n",
       "2020-12-21  128.229996         NaN      128.389041         132.943928\n",
       "2020-12-22  131.880005         NaN      130.368392         136.351173\n",
       "2020-12-23  130.960007         NaN      117.216953         135.492365\n",
       "2020-12-24  131.970001         NaN      131.321249         136.435184\n",
       "2020-12-28  136.690002         NaN       97.237426         140.841255\n",
       "2020-12-29  134.869995         NaN      107.200464         139.142298\n",
       "2020-12-30  133.720001         NaN      124.602045         138.068790\n",
       "2020-12-31  132.690002         NaN      134.339425         137.107297\n",
       "2021-01-04  129.410004         NaN      113.013781         134.045453\n",
       "2021-01-05  131.009995         NaN      117.941762         135.539028\n",
       "2021-01-06  126.599998         NaN      119.145677         131.422343\n",
       "2021-01-07  130.919998         NaN      116.649329         135.455017\n",
       "2021-01-08  132.050003         NaN      132.074007         136.509865\n",
       "2021-01-11  128.979996         NaN      118.620034         133.644045\n",
       "2021-01-12  128.800003         NaN      121.250256         133.476024\n",
       "2021-01-13  130.889999         NaN      116.231961         135.427013\n",
       "2021-01-14  128.910004         NaN      119.640259         133.578708\n",
       "2021-01-15  127.139999         NaN      126.775328         131.926428\n",
       "2021-01-19  127.830002         NaN      130.568355         132.570538\n",
       "2021-01-20  132.029999         NaN      131.894490         136.491191\n",
       "2021-01-21  136.869995         NaN       97.433957         141.009277\n",
       "2021-01-22  139.070007         NaN      102.707073         143.062965\n",
       "2021-01-25  142.919998         NaN      104.553174         146.656891\n",
       "2021-01-26  143.160004         NaN      104.556464         146.880934\n",
       "2021-01-27  142.059998         NaN      104.522366         145.854090\n",
       "2021-01-28  137.089996         NaN       97.821579         141.214646\n",
       "2021-01-29  131.960007         NaN      131.220813         136.425854"
      ]
     },
     "execution_count": 29,
     "metadata": {},
     "output_type": "execute_result"
    }
   ],
   "source": [
    "future_prices"
   ]
  },
  {
   "cell_type": "markdown",
   "metadata": {},
   "source": []
  },
  {
   "cell_type": "code",
   "execution_count": null,
   "metadata": {},
   "outputs": [],
   "source": []
  }
 ],
 "metadata": {
  "kernelspec": {
   "display_name": "Python 3",
   "language": "python",
   "name": "python3"
  },
  "language_info": {
   "codemirror_mode": {
    "name": "ipython",
    "version": 3
   },
   "file_extension": ".py",
   "mimetype": "text/x-python",
   "name": "python",
   "nbconvert_exporter": "python",
   "pygments_lexer": "ipython3",
   "version": "3.7.6"
  }
 },
 "nbformat": 4,
 "nbformat_minor": 4
}
