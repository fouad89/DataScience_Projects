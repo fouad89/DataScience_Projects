{
 "cells": [
  {
   "cell_type": "code",
   "execution_count": 31,
   "metadata": {},
   "outputs": [],
   "source": [
    "import requests # get links\n",
    "from bs4 import BeautifulSoup # scraping HTML\n",
    "import re # used to get image number from link\n",
    "from PIL import Image # save images\n"
   ]
  },
  {
   "cell_type": "code",
   "execution_count": 15,
   "metadata": {},
   "outputs": [],
   "source": [
    "# Function to retrieve all image links \n",
    "\n",
    "def get_image_links(link):\n",
    "    r = requests.get(link)\n",
    "    soup = BeautifulSoup(r.content)\n",
    "    \n",
    "    # get the div section that contains the image links (class: fotorama hidden-sm hidden-md hidden-lg)\n",
    "    div_links = soup.find_all('div', class_=\"fotorama hidden-sm hidden-md hidden-lg\")[0].find_all('a')\n",
    "    \n",
    "    # get the links from that div\n",
    "    links = [a['href'] for a in div_links]\n",
    "    print(links)\n",
    "    return links"
   ]
  },
  {
   "cell_type": "code",
   "execution_count": 36,
   "metadata": {},
   "outputs": [],
   "source": [
    "# function to save images obtained from get_image_links\n",
    "\n",
    "def save_imgs(links):\n",
    "    for link in links:\n",
    "        img = Image.open(requests.get(link, stream=True).raw)\n",
    "        img_name = re.findall(r\"\\/\\s*\\+?(-?\\d+)\\s*\\-\", link)[0] \n",
    "        img.save(f'{img_name}.jpg')\n",
    "        "
   ]
  },
  {
   "cell_type": "code",
   "execution_count": 37,
   "metadata": {},
   "outputs": [
    {
     "name": "stdout",
     "output_type": "stream",
     "text": [
      "['https://s3-eu-west-1.amazonaws.com/cars.ie/live/car_photos/27541244-scaled.jpg', 'https://s3-eu-west-1.amazonaws.com/cars.ie/live/car_photos/27541245-scaled.jpg', 'https://s3-eu-west-1.amazonaws.com/cars.ie/live/car_photos/27541246-scaled.jpg', 'https://s3-eu-west-1.amazonaws.com/cars.ie/live/car_photos/27581778-scaled.jpg', 'https://s3-eu-west-1.amazonaws.com/cars.ie/live/car_photos/27581779-scaled.jpg', 'https://s3-eu-west-1.amazonaws.com/cars.ie/live/car_photos/27541243-scaled.jpg', 'https://s3-eu-west-1.amazonaws.com/cars.ie/live/car_photos/27581780-scaled.jpg']\n"
     ]
    }
   ],
   "source": [
    "test = \"https://www.cars.ie/used-cars/FORD-FOCUS-2007-Kildare-1295150\"\n",
    "test_links = get_image_links(test)"
   ]
  },
  {
   "cell_type": "code",
   "execution_count": 39,
   "metadata": {},
   "outputs": [],
   "source": [
    "save_imgs(test_links)"
   ]
  },
  {
   "cell_type": "code",
   "execution_count": 40,
   "metadata": {},
   "outputs": [
    {
     "name": "stdout",
     "output_type": "stream",
     "text": [
      "['https://s3-eu-west-1.amazonaws.com/cars.ie/live/car_photos/27581749-scaled.jpg', 'https://s3-eu-west-1.amazonaws.com/cars.ie/live/car_photos/27581737-scaled.jpg', 'https://s3-eu-west-1.amazonaws.com/cars.ie/live/car_photos/27581739-scaled.jpg', 'https://s3-eu-west-1.amazonaws.com/cars.ie/live/car_photos/27581740-scaled.jpg', 'https://s3-eu-west-1.amazonaws.com/cars.ie/live/car_photos/27581743-scaled.jpg', 'https://s3-eu-west-1.amazonaws.com/cars.ie/live/car_photos/27581745-scaled.jpg', 'https://s3-eu-west-1.amazonaws.com/cars.ie/live/car_photos/27581747-scaled.jpg']\n"
     ]
    }
   ],
   "source": [
    "test2 = \"https://www.cars.ie/used-cars/CITROEN-GRAND%20C4%20PICASSO-2010-Wicklow-1297150\"\n",
    "test2_links = get_image_links(test2)\n",
    "save_imgs(test2_links)"
   ]
  },
  {
   "cell_type": "code",
   "execution_count": null,
   "metadata": {},
   "outputs": [],
   "source": []
  }
 ],
 "metadata": {
  "kernelspec": {
   "display_name": "Python 3",
   "language": "python",
   "name": "python3"
  },
  "language_info": {
   "codemirror_mode": {
    "name": "ipython",
    "version": 3
   },
   "file_extension": ".py",
   "mimetype": "text/x-python",
   "name": "python",
   "nbconvert_exporter": "python",
   "pygments_lexer": "ipython3",
   "version": "3.7.6"
  }
 },
 "nbformat": 4,
 "nbformat_minor": 4
}
